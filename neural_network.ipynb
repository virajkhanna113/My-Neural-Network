{
 "cells": [
  {
   "cell_type": "code",
   "execution_count": 1,
   "id": "c900e72d",
   "metadata": {},
   "outputs": [
    {
     "data": {
      "text/plain": [
       "[]"
      ]
     },
     "execution_count": 1,
     "metadata": {},
     "output_type": "execute_result"
    }
   ],
   "source": [
    "import tensorflow as tf\n",
    "\n",
    "tf.config.list_logical_devices('GPU')"
   ]
  },
  {
   "cell_type": "code",
   "execution_count": 2,
   "id": "2e6a11e3",
   "metadata": {},
   "outputs": [],
   "source": [
    "fashion_mnist = tf.keras.datasets.fashion_mnist\n",
    "(train_images, train_labels), (valid_images, valid_label) = fashion_mnist.load_data()"
   ]
  },
  {
   "cell_type": "code",
   "execution_count": 3,
   "id": "eaee3276",
   "metadata": {},
   "outputs": [
    {
     "data": {
      "image/png": "[encoded data removed]",
      "text/plain": [
       "<Figure size 640x480 with 2 Axes>"
      ]
     },
     "metadata": {},
     "output_type": "display_data"
    }
   ],
   "source": [
    "import matplotlib.pyplot as plt\n",
    "\n",
    "data_idx = 42\n",
    "\n",
    "plt.figure()\n",
    "plt.imshow(train_images[data_idx], cmap='gray')\n",
    "plt.colorbar()\n",
    "plt.grid(False)\n",
    "plt.show()"
   ]
  },
  {
   "cell_type": "code",
   "execution_count": 4,
   "id": "87c97c52",
   "metadata": {},
   "outputs": [
    {
     "data": {
      "text/plain": [
       "9"
      ]
     },
     "execution_count": 4,
     "metadata": {},
     "output_type": "execute_result"
    }
   ],
   "source": [
    "train_labels[data_idx]"
   ]
  },
  {
   "cell_type": "code",
   "execution_count": 5,
   "id": "228deeba",
   "metadata": {},
   "outputs": [
    {
     "data": {
      "image/png": "[encoded data removed]",
      "text/plain": [
       "<Figure size 640x480 with 2 Axes>"
      ]
     },
     "metadata": {},
     "output_type": "display_data"
    }
   ],
   "source": [
    "data_idx = 6174\n",
    "\n",
    "plt.figure()\n",
    "plt.imshow(valid_images[data_idx], cmap='gray')\n",
    "plt.colorbar()\n",
    "plt.grid(False)\n",
    "plt.show()"
   ]
  },
  {
   "cell_type": "code",
   "execution_count": 6,
   "id": "4ecb1de0",
   "metadata": {},
   "outputs": [
    {
     "data": {
      "text/plain": [
       "7"
      ]
     },
     "execution_count": 6,
     "metadata": {},
     "output_type": "execute_result"
    }
   ],
   "source": [
    "valid_label[data_idx]"
   ]
  },
  {
   "cell_type": "markdown",
   "id": "ef40f41f",
   "metadata": {},
   "source": [
    "# Building a Neuron"
   ]
  },
  {
   "cell_type": "code",
   "execution_count": 7,
   "id": "d702a3e4",
   "metadata": {},
   "outputs": [
    {
     "data": {
      "text/plain": [
       "array([[  0,   0,   0,   0,   0,   0,   0,   0,   0,   0,   0,   0,   0,\n",
       "          0,   0,   0,   0,   0,   0,   0,   0,   0,   0,   0,   0,   0,\n",
       "          0,   0],\n",
       "       [  0,   0,   0,   0,   0,   0,   0,   0,   0,   0,   0,   0,   0,\n",
       "          0,   0,   0,   0,   0,   0,   0,   0,   0,   0,   0,   0,   0,\n",
       "          0,   0],\n",
       "       [  0,   0,   0,   0,   0,   0,   0,   0,   0,   0,   0,   0,   0,\n",
       "          0,   0,   0,   0,   0,   0,   0,   0,   0,   0,   0,   0,   0,\n",
       "          0,   0],\n",
       "       [  0,   0,   0,   0,   0,   0,   0,   0,   0,   0,   0,   0,   0,\n",
       "          0,   0,   0,   0,   0,   0,   0,   0,   0,   0,   0,   0,   0,\n",
       "          0,   0],\n",
       "       [  0,   0,   0,   0,   0,   0,   0,   0,   0,   0,   0,   0,   0,\n",
       "          0,   0,   0,   0,   0,   0,   0,   0,   0,   0,   0,   0,   0,\n",
       "          0,   0],\n",
       "       [  0,   0,   0,   0,   0,   0,   0,   0,   0,   0,   0,   0,   0,\n",
       "          0,   0,   0,   0,   0,   0,   0,   0,   0,   0,   0,   0,   0,\n",
       "          0,   0],\n",
       "       [  0,   0,   0,   0,   0,   0,   0,   0,   0,   0,   0,   0,   0,\n",
       "          0,   0,   0,   0,   0,   0,   0,   0,   0,   0,   0,   0,   0,\n",
       "          0,   0],\n",
       "       [  0,   0,   0,   0,   0,   0,   0,   0,   0,   0,   0,   0,   0,\n",
       "          0,   0,   0, 155, 133,   0,   0,   1,   0,   0,   3,   0,   0,\n",
       "          0,   0],\n",
       "       [  0,   0,   0,   0,   0,   0,   0,   0,   0,   5,   0,   0,   0,\n",
       "          1,   0,   0, 175, 235,  35,   0,   3,   0,   5,   2,   3,   1,\n",
       "          0,   0],\n",
       "       [  0,   0,   0,   0,   0,   0,   0,   0,   0,   0,   1,   0,   0,\n",
       "          0,   0,  93, 219, 220,  32,   0,   0,   0,   0,   0,   0,   0,\n",
       "          1,   0],\n",
       "       [  0,   0,   0,   0,   0,   0,   0,   0,   0,   0,   2,   2,   0,\n",
       "          0, 147, 218, 159, 218,  28,   0,   2,   0,  82, 202, 115,   0,\n",
       "          0,   1],\n",
       "       [  0,   0,   0,   0,   0,   0,   0,   0,   2,   0,   0,   0,   0,\n",
       "        144, 248, 155, 105, 174,  87,   0,   0,   0, 233, 253, 213,   8,\n",
       "          0,   1],\n",
       "       [  1,   0,   0,   0,   1,   2,   2,   0,   0,   0,   0,  99, 233,\n",
       "        119,  81,  89, 140, 183, 208, 139,  74, 218, 223, 184, 189, 145,\n",
       "          0,   0],\n",
       "       [  0,   1,   2,   3,   5,   0,   0,   0,   0, 173, 153, 195,  97,\n",
       "        157, 220, 228, 213, 189, 182, 189, 220, 213, 174, 185, 186, 198,\n",
       "          0,   0],\n",
       "       [  1,   0,   0,   0,   0,  10, 129, 202, 198, 129, 149,  84, 124,\n",
       "        236, 221, 209, 226, 221, 166, 186, 179, 178, 205, 177, 206, 196,\n",
       "          0,   0],\n",
       "       [  0,   0,   6,  49,  80, 148, 203, 181, 203, 164, 145, 178, 159,\n",
       "        138, 174, 186, 162, 169, 177, 200, 214, 206, 178, 179, 205, 227,\n",
       "          6,   0],\n",
       "       [  3, 104, 128, 126, 124, 105,  85,  75,  99, 181, 140, 141, 185,\n",
       "        179, 181, 183, 185, 204, 227, 255, 224, 226, 234, 227, 159, 198,\n",
       "        198,   0],\n",
       "       [ 62, 150, 115, 111,  91, 117, 131, 102, 129, 120, 153, 176, 216,\n",
       "        232, 238, 238, 211, 242, 173,  26,   0,  54, 104,  20,   0,   0,\n",
       "         48,  16],\n",
       "       [116, 179, 173, 173, 202, 188, 200, 228, 179, 150, 100,  89, 164,\n",
       "         39,   0,  82, 129,  17,   0,   0,   0,   0,   0,   0,  25,  11,\n",
       "          0,  12],\n",
       "       [ 10, 122, 108, 148, 115, 145, 148,  79,  38,   0,   0,   0,   0,\n",
       "          0,   0,   0,   0,   0,   9,  14,   7,  18,   9,   5,   0,  12,\n",
       "          0,   0],\n",
       "       [  0,   5,  57,  67,   0,   0,   0,   1,   0,   0,   8,   8,  71,\n",
       "         55,  11,  32,  30,  30,  17,   4,   3,   9,  15,  17,  29,  37,\n",
       "         92, 106],\n",
       "       [  0,   0,   0,  58,  50, 142, 169,  80, 144, 156, 148, 159, 152,\n",
       "        156, 136, 151, 142,  70, 139, 161,  98, 131, 145,  60, 141, 121,\n",
       "         77,   0],\n",
       "       [  0,   0,   0,   0,   0,   0,   0,   0,   0,   0,   0,   0,   0,\n",
       "          0,   0,   0,   0,   0,   0,   0,   0,   0,   0,   0,   0,   0,\n",
       "          0,   0],\n",
       "       [  0,   0,   0,   0,   0,   0,   0,   0,   0,   0,   0,   0,   0,\n",
       "          0,   0,   0,   0,   0,   0,   0,   0,   0,   0,   0,   0,   0,\n",
       "          0,   0],\n",
       "       [  0,   0,   0,   0,   0,   0,   0,   0,   0,   0,   0,   0,   0,\n",
       "          0,   0,   0,   0,   0,   0,   0,   0,   0,   0,   0,   0,   0,\n",
       "          0,   0],\n",
       "       [  0,   0,   0,   0,   0,   0,   0,   0,   0,   0,   0,   0,   0,\n",
       "          0,   0,   0,   0,   0,   0,   0,   0,   0,   0,   0,   0,   0,\n",
       "          0,   0],\n",
       "       [  0,   0,   0,   0,   0,   0,   0,   0,   0,   0,   0,   0,   0,\n",
       "          0,   0,   0,   0,   0,   0,   0,   0,   0,   0,   0,   0,   0,\n",
       "          0,   0],\n",
       "       [  0,   0,   0,   0,   0,   0,   0,   0,   0,   0,   0,   0,   0,\n",
       "          0,   0,   0,   0,   0,   0,   0,   0,   0,   0,   0,   0,   0,\n",
       "          0,   0]], dtype=uint8)"
      ]
     },
     "execution_count": 7,
     "metadata": {},
     "output_type": "execute_result"
    }
   ],
   "source": [
    "# 28 lists with 28 values each\n",
    "valid_images[data_idx]"
   ]
  },
  {
   "cell_type": "code",
   "execution_count": 8,
   "id": "8b3cfb4a",
   "metadata": {},
   "outputs": [
    {
     "data": {
      "text/plain": [
       "10"
      ]
     },
     "execution_count": 8,
     "metadata": {},
     "output_type": "execute_result"
    }
   ],
   "source": [
    "# We will also define an input_shape which is the dimensions of our data. In this case, our 28x28 pixels for each image.\n",
    "number_of_classes = train_labels.max() + 1\n",
    "number_of_classes"
   ]
  },
  {
   "cell_type": "code",
   "execution_count": 9,
   "id": "ba440a0c",
   "metadata": {},
   "outputs": [
    {
     "name": "stderr",
     "output_type": "stream",
     "text": [
      "c:\\Users\\Dell\\AppData\\Local\\Programs\\Python\\Python311\\Lib\\site-packages\\keras\\src\\layers\\reshaping\\flatten.py:37: UserWarning: Do not pass an `input_shape`/`input_dim` argument to a layer. When using Sequential models, prefer using an `Input(shape)` object as the first layer in the model instead.\n",
      "  super().__init__(**kwargs)\n"
     ]
    }
   ],
   "source": [
    "model = tf.keras.Sequential([\n",
    "    tf.keras.layers.Flatten(input_shape=(28, 28)),\n",
    "    tf.keras.layers.Dense(number_of_classes)\n",
    "])"
   ]
  },
  {
   "cell_type": "markdown",
   "id": "9d70ffe2",
   "metadata": {},
   "source": [
    "# Verifying the model"
   ]
  },
  {
   "cell_type": "code",
   "execution_count": 10,
   "id": "c168519d",
   "metadata": {},
   "outputs": [
    {
     "data": {
      "text/html": [
       "<pre style=\"white-space:pre;overflow-x:auto;line-height:normal;font-family:Menlo,'DejaVu Sans Mono',consolas,'Courier New',monospace\"><span style=\"font-weight: bold\">Model: \"sequential\"</span>\n",
       "</pre>\n"
      ],
      "text/plain": [
       "\u001b[1mModel: \"sequential\"\u001b[0m\n"
      ]
     },
     "metadata": {},
     "output_type": "display_data"
    },
    {
     "data": {
      "text/html": [
       "<pre style=\"white-space:pre;overflow-x:auto;line-height:normal;font-family:Menlo,'DejaVu Sans Mono',consolas,'Courier New',monospace\">┏━━━━━━━━━━━━━━━━━━━━━━━━━━━━━━━━━┳━━━━━━━━━━━━━━━━━━━━━━━━┳━━━━━━━━━━━━━━━┓\n",
       "┃<span style=\"font-weight: bold\"> Layer (type)                    </span>┃<span style=\"font-weight: bold\"> Output Shape           </span>┃<span style=\"font-weight: bold\">       Param # </span>┃\n",
       "┡━━━━━━━━━━━━━━━━━━━━━━━━━━━━━━━━━╇━━━━━━━━━━━━━━━━━━━━━━━━╇━━━━━━━━━━━━━━━┩\n",
       "│ flatten (<span style=\"color: #0087ff; text-decoration-color: #0087ff\">Flatten</span>)               │ (<span style=\"color: #00d7ff; text-decoration-color: #00d7ff\">None</span>, <span style=\"color: #00af00; text-decoration-color: #00af00\">784</span>)            │             <span style=\"color: #00af00; text-decoration-color: #00af00\">0</span> │\n",
       "├─────────────────────────────────┼────────────────────────┼───────────────┤\n",
       "│ dense (<span style=\"color: #0087ff; text-decoration-color: #0087ff\">Dense</span>)                   │ (<span style=\"color: #00d7ff; text-decoration-color: #00d7ff\">None</span>, <span style=\"color: #00af00; text-decoration-color: #00af00\">10</span>)             │         <span style=\"color: #00af00; text-decoration-color: #00af00\">7,850</span> │\n",
       "└─────────────────────────────────┴────────────────────────┴───────────────┘\n",
       "</pre>\n"
      ],
      "text/plain": [
       "┏━━━━━━━━━━━━━━━━━━━━━━━━━━━━━━━━━┳━━━━━━━━━━━━━━━━━━━━━━━━┳━━━━━━━━━━━━━━━┓\n",
       "┃\u001b[1m \u001b[0m\u001b[1mLayer (type)                   \u001b[0m\u001b[1m \u001b[0m┃\u001b[1m \u001b[0m\u001b[1mOutput Shape          \u001b[0m\u001b[1m \u001b[0m┃\u001b[1m \u001b[0m\u001b[1m      Param #\u001b[0m\u001b[1m \u001b[0m┃\n",
       "┡━━━━━━━━━━━━━━━━━━━━━━━━━━━━━━━━━╇━━━━━━━━━━━━━━━━━━━━━━━━╇━━━━━━━━━━━━━━━┩\n",
       "│ flatten (\u001b[38;5;33mFlatten\u001b[0m)               │ (\u001b[38;5;45mNone\u001b[0m, \u001b[38;5;34m784\u001b[0m)            │             \u001b[38;5;34m0\u001b[0m │\n",
       "├─────────────────────────────────┼────────────────────────┼───────────────┤\n",
       "│ dense (\u001b[38;5;33mDense\u001b[0m)                   │ (\u001b[38;5;45mNone\u001b[0m, \u001b[38;5;34m10\u001b[0m)             │         \u001b[38;5;34m7,850\u001b[0m │\n",
       "└─────────────────────────────────┴────────────────────────┴───────────────┘\n"
      ]
     },
     "metadata": {},
     "output_type": "display_data"
    },
    {
     "data": {
      "text/html": [
       "<pre style=\"white-space:pre;overflow-x:auto;line-height:normal;font-family:Menlo,'DejaVu Sans Mono',consolas,'Courier New',monospace\"><span style=\"font-weight: bold\"> Total params: </span><span style=\"color: #00af00; text-decoration-color: #00af00\">7,850</span> (30.66 KB)\n",
       "</pre>\n"
      ],
      "text/plain": [
       "\u001b[1m Total params: \u001b[0m\u001b[38;5;34m7,850\u001b[0m (30.66 KB)\n"
      ]
     },
     "metadata": {},
     "output_type": "display_data"
    },
    {
     "data": {
      "text/html": [
       "<pre style=\"white-space:pre;overflow-x:auto;line-height:normal;font-family:Menlo,'DejaVu Sans Mono',consolas,'Courier New',monospace\"><span style=\"font-weight: bold\"> Trainable params: </span><span style=\"color: #00af00; text-decoration-color: #00af00\">7,850</span> (30.66 KB)\n",
       "</pre>\n"
      ],
      "text/plain": [
       "\u001b[1m Trainable params: \u001b[0m\u001b[38;5;34m7,850\u001b[0m (30.66 KB)\n"
      ]
     },
     "metadata": {},
     "output_type": "display_data"
    },
    {
     "data": {
      "text/html": [
       "<pre style=\"white-space:pre;overflow-x:auto;line-height:normal;font-family:Menlo,'DejaVu Sans Mono',consolas,'Courier New',monospace\"><span style=\"font-weight: bold\"> Non-trainable params: </span><span style=\"color: #00af00; text-decoration-color: #00af00\">0</span> (0.00 B)\n",
       "</pre>\n"
      ],
      "text/plain": [
       "\u001b[1m Non-trainable params: \u001b[0m\u001b[38;5;34m0\u001b[0m (0.00 B)\n"
      ]
     },
     "metadata": {},
     "output_type": "display_data"
    }
   ],
   "source": [
    "model.summary()"
   ]
  },
  {
   "cell_type": "markdown",
   "id": "6f449047",
   "metadata": {},
   "source": [
    "We can see that our total parameter count is 7850. Let's see if this makes sense. For each pixel, there should be a weight for each of our ten classes."
   ]
  },
  {
   "cell_type": "code",
   "execution_count": 11,
   "id": "2aab981a",
   "metadata": {},
   "outputs": [
    {
     "data": {
      "text/plain": [
       "7840"
      ]
     },
     "execution_count": 11,
     "metadata": {},
     "output_type": "execute_result"
    }
   ],
   "source": [
    "image_height = 28\n",
    "image_weight = 28\n",
    "\n",
    "number_of_weights = image_height * image_weight * number_of_classes\n",
    "number_of_weights"
   ]
  },
  {
   "cell_type": "markdown",
   "id": "c7eeeee2",
   "metadata": {},
   "source": [
    "So our weights make up 7,840 parameters. Where do the other ten come from? It's each of the 10 neurons biases, the b in y = mx + b.\n",
    "\n",
    "There are a few other ways to verify our model. We can also plot it:"
   ]
  },
  {
   "cell_type": "code",
   "execution_count": 12,
   "id": "2a8a9e23",
   "metadata": {},
   "outputs": [
    {
     "data": {
      "image/png": "[encoded data removed]",
      "text/plain": [
       "<IPython.core.display.Image object>"
      ]
     },
     "execution_count": 12,
     "metadata": {},
     "output_type": "execute_result"
    }
   ],
   "source": [
    "tf.keras.utils.plot_model(model, show_shapes=True)"
   ]
  },
  {
   "cell_type": "markdown",
   "id": "1b35d2c1",
   "metadata": {},
   "source": [
    "# Initiate Training"
   ]
  },
  {
   "cell_type": "code",
   "execution_count": 13,
   "id": "5d1021b7",
   "metadata": {},
   "outputs": [],
   "source": [
    "model.compile(optimizer='adam',\n",
    "              loss=tf.keras.losses.SparseCategoricalCrossentropy(from_logits=True),\n",
    "              metrics=['accuracy'])"
   ]
  },
  {
   "cell_type": "code",
   "execution_count": 14,
   "id": "3ccc5cf9",
   "metadata": {},
   "outputs": [
    {
     "name": "stdout",
     "output_type": "stream",
     "text": [
      "Epoch 1/5\n",
      "\u001b[1m1875/1875\u001b[0m \u001b[32m━━━━━━━━━━━━━━━━━━━━\u001b[0m\u001b[37m\u001b[0m \u001b[1m5s\u001b[0m 2ms/step - accuracy: 0.6803 - loss: 24.6720 - val_accuracy: 0.7669 - val_loss: 15.9219\n",
      "Epoch 2/5\n",
      "\u001b[1m1875/1875\u001b[0m \u001b[32m━━━━━━━━━━━━━━━━━━━━\u001b[0m\u001b[37m\u001b[0m \u001b[1m4s\u001b[0m 2ms/step - accuracy: 0.7907 - loss: 11.5824 - val_accuracy: 0.7879 - val_loss: 13.1246\n",
      "Epoch 3/5\n",
      "\u001b[1m1875/1875\u001b[0m \u001b[32m━━━━━━━━━━━━━━━━━━━━\u001b[0m\u001b[37m\u001b[0m \u001b[1m4s\u001b[0m 2ms/step - accuracy: 0.7935 - loss: 11.1741 - val_accuracy: 0.7289 - val_loss: 16.7172\n",
      "Epoch 4/5\n",
      "\u001b[1m1875/1875\u001b[0m \u001b[32m━━━━━━━━━━━━━━━━━━━━\u001b[0m\u001b[37m\u001b[0m \u001b[1m5s\u001b[0m 3ms/step - accuracy: 0.8005 - loss: 10.9991 - val_accuracy: 0.7832 - val_loss: 12.1819\n",
      "Epoch 5/5\n",
      "\u001b[1m1875/1875\u001b[0m \u001b[32m━━━━━━━━━━━━━━━━━━━━\u001b[0m\u001b[37m\u001b[0m \u001b[1m7s\u001b[0m 4ms/step - accuracy: 0.8033 - loss: 10.3240 - val_accuracy: 0.7718 - val_loss: 12.2950\n"
     ]
    }
   ],
   "source": [
    "history = model.fit(train_images,\n",
    "                    train_labels,\n",
    "                    epochs=5,\n",
    "                    verbose=True,\n",
    "                    validation_data=(valid_images, valid_label))"
   ]
  },
  {
   "cell_type": "markdown",
   "id": "6f9218c2",
   "metadata": {},
   "source": [
    "# Prediction"
   ]
  },
  {
   "cell_type": "code",
   "execution_count": 15,
   "id": "45cdfdc0",
   "metadata": {},
   "outputs": [
    {
     "name": "stdout",
     "output_type": "stream",
     "text": [
      "\u001b[1m1/1\u001b[0m \u001b[32m━━━━━━━━━━━━━━━━━━━━\u001b[0m\u001b[37m\u001b[0m \u001b[1m0s\u001b[0m 205ms/step\n"
     ]
    },
    {
     "data": {
      "text/plain": [
       "array([[ -189.31146  ,  -547.71814  ,   -44.02823  ,  -265.22864  ,\n",
       "         -254.48883  ,   436.61658  ,    20.248894 ,   338.97067  ,\n",
       "          232.09586  ,   615.07495  ],\n",
       "       [  432.03302  ,  -357.5027   ,   330.9624   ,   199.02498  ,\n",
       "          122.57379  , -1074.1329   ,   290.79474  , -1790.6702   ,\n",
       "           28.589523 ,  -815.05475  ],\n",
       "       [  110.555084 ,   -34.823463 ,    94.11559  ,   134.95972  ,\n",
       "          124.22608  ,  -361.30823  ,    89.789665 ,  -497.16797  ,\n",
       "           -5.7405114,  -274.3519   ],\n",
       "       [  250.98082  ,    10.434874 ,   272.77676  ,   273.6303   ,\n",
       "          258.64346  ,  -560.01245  ,   269.24466  ,  -924.4531   ,\n",
       "           74.30819  ,  -484.76666  ],\n",
       "       [  256.8321   ,    62.931873 ,   230.89403  ,   306.5372   ,\n",
       "          331.8162   ,  -693.1419   ,   224.51703  ,  -768.86017  ,\n",
       "          148.01273  ,  -717.1142   ],\n",
       "       [  299.03607  ,   -80.61921  ,   435.50952  ,    48.95019  ,\n",
       "          449.8016   ,  -654.63226  ,   333.15396  , -1411.1143   ,\n",
       "          120.063736 , -1030.3185   ],\n",
       "       [  -45.28131  ,  -161.73613  ,   -65.79828  ,   -44.75992  ,\n",
       "         -118.29323  ,   336.1233   ,    63.749565 ,   350.30444  ,\n",
       "          197.69666  ,   168.61723  ],\n",
       "       [  259.13602  ,  -331.84308  ,   411.3627   ,    28.898989 ,\n",
       "          531.29297  ,  -816.4989   ,   345.4304   , -1693.3922   ,\n",
       "          227.44243  ,  -780.8064   ],\n",
       "       [  -35.874874 ,  -462.2572   ,  -102.75629  ,  -145.35605  ,\n",
       "         -226.6262   ,   459.89395  ,   -78.92429  ,    17.216951 ,\n",
       "           38.972237 ,   316.30405  ],\n",
       "       [ -126.97308  ,  -292.71118  ,   -81.56863  ,  -222.4532   ,\n",
       "         -187.40755  ,   575.4399   ,   -48.18538  ,  -222.99507  ,\n",
       "          169.74533  ,   214.89558  ]], dtype=float32)"
      ]
     },
     "execution_count": 15,
     "metadata": {},
     "output_type": "execute_result"
    }
   ],
   "source": [
    "model.predict(train_images[:10])"
   ]
  },
  {
   "cell_type": "code",
   "execution_count": 16,
   "id": "9745ab97",
   "metadata": {},
   "outputs": [
    {
     "data": {
      "image/png": "[encoded data removed]",
      "text/plain": [
       "<Figure size 640x480 with 2 Axes>"
      ]
     },
     "metadata": {},
     "output_type": "display_data"
    },
    {
     "name": "stdout",
     "output_type": "stream",
     "text": [
      "\u001b[1m1/1\u001b[0m \u001b[32m━━━━━━━━━━━━━━━━━━━━\u001b[0m\u001b[37m\u001b[0m \u001b[1m0s\u001b[0m 185ms/step\n"
     ]
    },
    {
     "data": {
      "image/png": "[encoded data removed]",
      "text/plain": [
       "<Figure size 640x480 with 1 Axes>"
      ]
     },
     "metadata": {},
     "output_type": "display_data"
    },
    {
     "name": "stdout",
     "output_type": "stream",
     "text": [
      "Correct answer:  6\n"
     ]
    }
   ],
   "source": [
    "data_idx = 8675\n",
    "\n",
    "plt.figure()\n",
    "plt.imshow(train_images[data_idx], cmap='gray')\n",
    "plt.colorbar()\n",
    "plt.grid(False)\n",
    "plt.show()\n",
    "\n",
    "x_values = range(number_of_classes)\n",
    "plt.figure()\n",
    "plt.bar(x_values, model.predict(train_images[data_idx: data_idx + 1])[0])\n",
    "plt.xticks(range(10))\n",
    "plt.show()\n",
    "\n",
    "print(\"Correct answer: \", train_labels[data_idx])"
   ]
  },
  {
   "cell_type": "markdown",
   "id": "e0af61c2",
   "metadata": {},
   "source": [
    "# Conclusion\n",
    "\n",
    "While this model does significantly better than random guessing, it has a way to go before it can beat humans at recognizing clothing."
   ]
  }
 ],
 "metadata": {
  "kernelspec": {
   "display_name": "Python 3",
   "language": "python",
   "name": "python3"
  },
  "language_info": {
   "codemirror_mode": {
    "name": "ipython",
    "version": 3
   },
   "file_extension": ".py",
   "mimetype": "text/x-python",
   "name": "python",
   "nbconvert_exporter": "python",
   "pygments_lexer": "ipython3",
   "version": "3.11.5"
  }
 },
 "nbformat": 4,
 "nbformat_minor": 5
}
